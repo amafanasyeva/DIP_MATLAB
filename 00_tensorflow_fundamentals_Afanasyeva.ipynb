{
  "nbformat": 4,
  "nbformat_minor": 0,
  "metadata": {
    "colab": {
      "provenance": [],
      "authorship_tag": "ABX9TyMaygjHL2WkAgJi0dBS8tU6",
      "include_colab_link": true
    },
    "kernelspec": {
      "name": "python3",
      "display_name": "Python 3"
    },
    "language_info": {
      "name": "python"
    }
  },
  "cells": [
    {
      "cell_type": "markdown",
      "metadata": {
        "id": "view-in-github",
        "colab_type": "text"
      },
      "source": [
        "<a href=\"https://colab.research.google.com/github/amafanasyeva/DIP_MATLAB/blob/master/00_tensorflow_fundamentals_Afanasyeva.ipynb\" target=\"_parent\"><img src=\"https://colab.research.google.com/assets/colab-badge.svg\" alt=\"Open In Colab\"/></a>"
      ]
    },
    {
      "cell_type": "code",
      "execution_count": 1,
      "metadata": {
        "colab": {
          "base_uri": "https://localhost:8080/"
        },
        "id": "PFJnkPwYBAG_",
        "outputId": "d7b8b293-f0da-409e-d729-d3fcb2c8b781"
      },
      "outputs": [
        {
          "output_type": "stream",
          "name": "stdout",
          "text": [
            "Notebook last run (end-to-end): 2024-01-21 21:58:22.777047\n"
          ]
        }
      ],
      "source": [
        "import datetime\n",
        "\n",
        "print(f\"Notebook last run (end-to-end): {datetime.datetime.now()}\")"
      ]
    },
    {
      "cell_type": "code",
      "source": [
        "# Import TensorFlow\n",
        "import tensorflow as tf\n",
        "print(tf.__version__) # find the version number (should be 2.x+)"
      ],
      "metadata": {
        "colab": {
          "base_uri": "https://localhost:8080/"
        },
        "id": "jmlpm5_xB8wi",
        "outputId": "a6821078-11ea-4c31-80cc-0c79aa3af60a"
      },
      "execution_count": 2,
      "outputs": [
        {
          "output_type": "stream",
          "name": "stdout",
          "text": [
            "2.15.0\n"
          ]
        }
      ]
    },
    {
      "cell_type": "code",
      "source": [
        "# Create a scalar (rank 0 tensor)\n",
        "scalar = tf.constant(5)\n",
        "scalar, scalar.ndim, scalar.shape, tf.size(scalar)"
      ],
      "metadata": {
        "colab": {
          "base_uri": "https://localhost:8080/"
        },
        "id": "ZbP_bhM3CKTk",
        "outputId": "2ad438d4-d8f2-4881-e054-663440dc673b"
      },
      "execution_count": 15,
      "outputs": [
        {
          "output_type": "execute_result",
          "data": {
            "text/plain": [
              "(<tf.Tensor: shape=(), dtype=int32, numpy=5>,\n",
              " 0,\n",
              " TensorShape([]),\n",
              " <tf.Tensor: shape=(), dtype=int32, numpy=1>)"
            ]
          },
          "metadata": {},
          "execution_count": 15
        }
      ]
    },
    {
      "cell_type": "code",
      "source": [
        "my_vector = tf.constant([5, 5])\n",
        "my_vector, my_vector.ndim, my_vector.shape, tf.size(my_vector)"
      ],
      "metadata": {
        "colab": {
          "base_uri": "https://localhost:8080/"
        },
        "id": "XbbpVYyGCbD9",
        "outputId": "51b39480-d1bc-45d1-c196-9dcae8969122"
      },
      "execution_count": 16,
      "outputs": [
        {
          "output_type": "execute_result",
          "data": {
            "text/plain": [
              "(<tf.Tensor: shape=(2,), dtype=int32, numpy=array([5, 5], dtype=int32)>,\n",
              " 1,\n",
              " TensorShape([2]),\n",
              " <tf.Tensor: shape=(), dtype=int32, numpy=2>)"
            ]
          },
          "metadata": {},
          "execution_count": 16
        }
      ]
    },
    {
      "cell_type": "code",
      "source": [
        "my_matrix = tf.constant([[5, 9],\n",
        "                      [9, 5]])\n",
        "my_matrix, my_matrix.ndim, my_matrix.shape, tf.size(my_matrix)"
      ],
      "metadata": {
        "colab": {
          "base_uri": "https://localhost:8080/"
        },
        "id": "0-LOr1TaDH7i",
        "outputId": "8fe348b8-39d2-496e-a92a-cda89985de5c"
      },
      "execution_count": 17,
      "outputs": [
        {
          "output_type": "execute_result",
          "data": {
            "text/plain": [
              "(<tf.Tensor: shape=(2, 2), dtype=int32, numpy=\n",
              " array([[5, 9],\n",
              "        [9, 5]], dtype=int32)>,\n",
              " 2,\n",
              " TensorShape([2, 2]),\n",
              " <tf.Tensor: shape=(), dtype=int32, numpy=4>)"
            ]
          },
          "metadata": {},
          "execution_count": 17
        }
      ]
    },
    {
      "cell_type": "code",
      "source": [
        "my_tensor = tf.constant([[[1, 2, 3],\n",
        "                       [4, 5, 6]],\n",
        "                      [[7, 8, 9],\n",
        "                       [10, 11, 12]],\n",
        "                      [[13, 14, 15],\n",
        "                       [16, 17, 18]]])\n",
        "my_tensor, my_tensor.ndim, my_tensor.shape, tf.size(my_tensor)"
      ],
      "metadata": {
        "colab": {
          "base_uri": "https://localhost:8080/"
        },
        "id": "N1bNYqQZDyOa",
        "outputId": "3591f0bd-3308-430a-fdec-0007309917de"
      },
      "execution_count": 18,
      "outputs": [
        {
          "output_type": "execute_result",
          "data": {
            "text/plain": [
              "(<tf.Tensor: shape=(3, 2, 3), dtype=int32, numpy=\n",
              " array([[[ 1,  2,  3],\n",
              "         [ 4,  5,  6]],\n",
              " \n",
              "        [[ 7,  8,  9],\n",
              "         [10, 11, 12]],\n",
              " \n",
              "        [[13, 14, 15],\n",
              "         [16, 17, 18]]], dtype=int32)>,\n",
              " 3,\n",
              " TensorShape([3, 2, 3]),\n",
              " <tf.Tensor: shape=(), dtype=int32, numpy=18>)"
            ]
          },
          "metadata": {},
          "execution_count": 18
        }
      ]
    },
    {
      "cell_type": "code",
      "source": [
        "random_tensor_1 = tf.random.Generator.from_seed(42)\n",
        "random_tensor_1 = random_tensor_1.normal(shape=(5, 300))\n",
        "random_tensor_2 = tf.random.Generator.from_seed(42)\n",
        "random_tensor_2 = random_tensor_2.normal(shape=(5, 300))\n",
        "random_tensor_1, random_tensor_2"
      ],
      "metadata": {
        "colab": {
          "base_uri": "https://localhost:8080/"
        },
        "id": "-WtI708eFHVt",
        "outputId": "18fe3d91-9c61-42ed-eb1b-a90e0fbd676b"
      },
      "execution_count": 35,
      "outputs": [
        {
          "output_type": "execute_result",
          "data": {
            "text/plain": [
              "(<tf.Tensor: shape=(5, 300), dtype=float32, numpy=\n",
              " array([[-0.7565803 , -0.06854702,  0.07595026, ..., -1.071834  ,\n",
              "         -1.0722276 , -0.00586287],\n",
              "        [-0.88051033, -0.32426047, -2.4847078 , ...,  0.16512105,\n",
              "          1.155565  , -0.10707551],\n",
              "        [-1.5306779 , -0.86202925, -0.16359143, ...,  0.34288085,\n",
              "          1.216793  , -1.24293   ],\n",
              "        [ 0.84324265, -0.23379943,  0.4276398 , ..., -1.0428714 ,\n",
              "         -0.73970354,  0.0177109 ],\n",
              "        [ 0.04888754, -0.66408694, -1.787366  , ...,  0.1947453 ,\n",
              "          0.5656089 ,  0.18439196]], dtype=float32)>,\n",
              " <tf.Tensor: shape=(5, 300), dtype=float32, numpy=\n",
              " array([[-0.7565803 , -0.06854702,  0.07595026, ..., -1.071834  ,\n",
              "         -1.0722276 , -0.00586287],\n",
              "        [-0.88051033, -0.32426047, -2.4847078 , ...,  0.16512105,\n",
              "          1.155565  , -0.10707551],\n",
              "        [-1.5306779 , -0.86202925, -0.16359143, ...,  0.34288085,\n",
              "          1.216793  , -1.24293   ],\n",
              "        [ 0.84324265, -0.23379943,  0.4276398 , ..., -1.0428714 ,\n",
              "         -0.73970354,  0.0177109 ],\n",
              "        [ 0.04888754, -0.66408694, -1.787366  , ...,  0.1947453 ,\n",
              "          0.5656089 ,  0.18439196]], dtype=float32)>)"
            ]
          },
          "metadata": {},
          "execution_count": 35
        }
      ]
    },
    {
      "cell_type": "code",
      "source": [
        "#tf.matmul(random_tensor_1, random_tensor_2)\n",
        "random_tensor_1 @ tf.transpose(random_tensor_2)"
      ],
      "metadata": {
        "colab": {
          "base_uri": "https://localhost:8080/"
        },
        "id": "aPuJ5GdcHWcM",
        "outputId": "d0d57b36-806b-4fe9-ff74-297e683a7709"
      },
      "execution_count": 36,
      "outputs": [
        {
          "output_type": "execute_result",
          "data": {
            "text/plain": [
              "<tf.Tensor: shape=(5, 5), dtype=float32, numpy=\n",
              "array([[272.44012  , -17.250706 , -34.88533  , -12.265072 , -22.346771 ],\n",
              "       [-17.250706 , 335.51385  ,  -3.666809 ,  -1.7807384, -18.89357  ],\n",
              "       [-34.88533  ,  -3.666809 , 333.2705   ,   4.595558 ,  -9.527701 ],\n",
              "       [-12.265072 ,  -1.7807384,   4.595558 , 317.00775  ,   4.2550097],\n",
              "       [-22.346771 , -18.89357  ,  -9.527701 ,   4.2550097, 295.76996  ]],\n",
              "      dtype=float32)>"
            ]
          },
          "metadata": {},
          "execution_count": 36
        }
      ]
    },
    {
      "cell_type": "code",
      "source": [
        "tf.transpose(random_tensor_2)"
      ],
      "metadata": {
        "colab": {
          "base_uri": "https://localhost:8080/"
        },
        "id": "wXz3A5_OMGDT",
        "outputId": "bf83a958-fe4b-4693-a3b2-628cc62d61c6"
      },
      "execution_count": 34,
      "outputs": [
        {
          "output_type": "execute_result",
          "data": {
            "text/plain": [
              "<tf.Tensor: shape=(300, 5), dtype=float32, numpy=\n",
              "array([[-0.7565803 , -0.88051033, -1.5306779 ,  0.84324265,  0.04888754],\n",
              "       [-0.06854702, -0.32426047, -0.86202925, -0.23379943, -0.66408694],\n",
              "       [ 0.07595026, -2.4847078 , -0.16359143,  0.4276398 , -1.787366  ],\n",
              "       ...,\n",
              "       [-1.071834  ,  0.16512105,  0.34288085, -1.0428714 ,  0.1947453 ],\n",
              "       [-1.0722276 ,  1.155565  ,  1.216793  , -0.73970354,  0.5656089 ],\n",
              "       [-0.00586287, -0.10707551, -1.24293   ,  0.0177109 ,  0.18439196]],\n",
              "      dtype=float32)>"
            ]
          },
          "metadata": {},
          "execution_count": 34
        }
      ]
    },
    {
      "cell_type": "code",
      "source": [
        "tf.tensordot(random_tensor_1, tf.transpose(random_tensor_2), axes=1)"
      ],
      "metadata": {
        "colab": {
          "base_uri": "https://localhost:8080/"
        },
        "id": "xvYP2_UWJkgl",
        "outputId": "598f20a7-7332-4aa1-efc2-3de3208bbc76"
      },
      "execution_count": 33,
      "outputs": [
        {
          "output_type": "execute_result",
          "data": {
            "text/plain": [
              "<tf.Tensor: shape=(5, 5), dtype=float32, numpy=\n",
              "array([[272.44012  , -17.250706 , -34.88533  , -12.265072 , -22.346771 ],\n",
              "       [-17.250706 , 335.51385  ,  -3.666809 ,  -1.7807384, -18.89357  ],\n",
              "       [-34.88533  ,  -3.666809 , 333.2705   ,   4.595558 ,  -9.527701 ],\n",
              "       [-12.265072 ,  -1.7807384,   4.595558 , 317.00775  ,   4.2550097],\n",
              "       [-22.346771 , -18.89357  ,  -9.527701 ,   4.2550097, 295.76996  ]],\n",
              "      dtype=float32)>"
            ]
          },
          "metadata": {},
          "execution_count": 33
        }
      ]
    },
    {
      "cell_type": "code",
      "source": [
        "random_tensor_3 = tf.random.Generator.from_seed(42)\n",
        "random_tensor_3 = random_tensor_3.normal(shape=(224, 224, 3))"
      ],
      "metadata": {
        "id": "Q-KHP80-Ta09"
      },
      "execution_count": 38,
      "outputs": []
    },
    {
      "cell_type": "code",
      "source": [
        "tf.reduce_max(random_tensor_3)"
      ],
      "metadata": {
        "colab": {
          "base_uri": "https://localhost:8080/"
        },
        "id": "CLahqvUyTjqF",
        "outputId": "843fae15-5ef5-4f95-b5ae-dc15f5222d43"
      },
      "execution_count": 40,
      "outputs": [
        {
          "output_type": "execute_result",
          "data": {
            "text/plain": [
              "<tf.Tensor: shape=(), dtype=float32, numpy=4.4032865>"
            ]
          },
          "metadata": {},
          "execution_count": 40
        }
      ]
    },
    {
      "cell_type": "code",
      "source": [
        "tf.reduce_min(random_tensor_3)"
      ],
      "metadata": {
        "colab": {
          "base_uri": "https://localhost:8080/"
        },
        "id": "HjWc81OkUMsq",
        "outputId": "08619c0e-820d-4720-f8fe-ca521262217d"
      },
      "execution_count": 41,
      "outputs": [
        {
          "output_type": "execute_result",
          "data": {
            "text/plain": [
              "<tf.Tensor: shape=(), dtype=float32, numpy=-4.848316>"
            ]
          },
          "metadata": {},
          "execution_count": 41
        }
      ]
    },
    {
      "cell_type": "code",
      "source": [
        "random_tensor_4 = tf.random.Generator.from_seed(42)\n",
        "random_tensor_4 = random_tensor_4.normal(shape=(1, 224, 224, 3))"
      ],
      "metadata": {
        "id": "Ln4Nm3h2UXi8"
      },
      "execution_count": 42,
      "outputs": []
    },
    {
      "cell_type": "code",
      "source": [
        "random_tensor_4_squeezed = tf.squeeze(random_tensor_4)\n",
        "random_tensor_4_squeezed.shape, random_tensor_4_squeezed.ndim"
      ],
      "metadata": {
        "colab": {
          "base_uri": "https://localhost:8080/"
        },
        "id": "I12t2mUFUsW7",
        "outputId": "a54c2f07-6762-42d0-f570-4b76d6e3673e"
      },
      "execution_count": 43,
      "outputs": [
        {
          "output_type": "execute_result",
          "data": {
            "text/plain": [
              "(TensorShape([224, 224, 3]), 3)"
            ]
          },
          "metadata": {},
          "execution_count": 43
        }
      ]
    },
    {
      "cell_type": "code",
      "source": [
        "import numpy as np\n",
        "random_tensor_5 = tf.constant(np.random.random(10))\n",
        "random_tensor_5, tf.argmax(random_tensor_5)"
      ],
      "metadata": {
        "colab": {
          "base_uri": "https://localhost:8080/"
        },
        "id": "ggkJtP_5W2Yw",
        "outputId": "57a9c27a-dde5-4373-e448-a339fcbd952c"
      },
      "execution_count": 53,
      "outputs": [
        {
          "output_type": "execute_result",
          "data": {
            "text/plain": [
              "(<tf.Tensor: shape=(10,), dtype=float64, numpy=\n",
              " array([0.56056822, 0.21647101, 0.85292544, 0.45721517, 0.65043516,\n",
              "        0.0834565 , 0.86649845, 0.87096848, 0.03041729, 0.95046701])>,\n",
              " <tf.Tensor: shape=(), dtype=int64, numpy=9>)"
            ]
          },
          "metadata": {},
          "execution_count": 53
        }
      ]
    }
  ]
}